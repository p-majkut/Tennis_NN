{
 "cells": [
  {
   "cell_type": "code",
   "execution_count": 1,
   "id": "7797d991",
   "metadata": {},
   "outputs": [],
   "source": [
    "\"\"\"This file :\n",
    "                1. Scrapes names and relevant links to player wiki from url below and stores this data in csv file.\n",
    "                2. File from 1. \"\"\"\n",
    "\n",
    "#Import packages\n",
    "from selenium import webdriver\n",
    "from bs4 import BeautifulSoup\n",
    "import pandas as pd\n",
    "from selenium.webdriver.common.by import By\n",
    "from selenium.common.exceptions import NoSuchElementException\n",
    "import requests\n",
    "\n",
    "#1.Obtain list of all male tennis players and their wiki link\n",
    "url=\"https://en.wikipedia.org/wiki/List_of_male_singles_tennis_players\"\n",
    "response = requests.get(url)\n",
    "soup =  BeautifulSoup(response.text, 'html.parser')\n",
    "a = soup.find('table',{'class':\"wikitable\"})\n",
    "vikilist = []\n",
    "namelist = []\n",
    "for tr in a.find_all(class_='vcard'):\n",
    "    x = tr.find(\"a\")\n",
    "    namelist.append(x.string)\n",
    "    vikilist.append(x[\"href\"])\n",
    "d = {'Name':namelist,'Viki':vikilist}\n",
    "df = pd.DataFrame(d)\n",
    "df.to_excel('Names.xlsx')\n"
   ]
  },
  {
   "cell_type": "code",
   "execution_count": 2,
   "id": "e0df56c1",
   "metadata": {},
   "outputs": [
    {
     "name": "stdout",
     "output_type": "stream",
     "text": [
      "Wall time: 15min 45s\n"
     ]
    }
   ],
   "source": [
    "%%time\n",
    "j=0\n",
    "players = BeautifulSoup()\n",
    "for i in vikilist:\n",
    "        url=\"https://en.wikipedia.org\" + i\n",
    "        response = requests.get(url)\n",
    "        players[j] =  BeautifulSoup(response.text, 'html.parser')\n",
    "        j+=1\n",
    "#629"
   ]
  },
  {
   "cell_type": "code",
   "execution_count": null,
   "id": "b483b161",
   "metadata": {},
   "outputs": [],
   "source": [
    "players[4].table.find('th',string=\"Plays\").next_sibling.text"
   ]
  },
  {
   "cell_type": "code",
   "execution_count": null,
   "id": "a72c1847",
   "metadata": {},
   "outputs": [],
   "source": [
    "data = []\n",
    "for i in range(len(vikilist)):\n",
    "    try:\n",
    "        x = players[i].table.find('span',class_=\"bday\").text\n",
    "        z = players[i].table.find('th',string=\"Plays\").next_sibling.text\n",
    "        y = i,x,z\n",
    "        print(y)\n",
    "    except AttributeError:\n",
    "        print(\"Attribiute error\")\n",
    "    "
   ]
  },
  {
   "cell_type": "code",
   "execution_count": null,
   "id": "19af4505",
   "metadata": {},
   "outputs": [],
   "source": [
    "#        data.append(y)\n",
    "#    except:\n",
    "#         x =  \"No data found\"\n",
    "#     except:\n",
    "#             z = \"No data found\"\n",
    "#y = players[i].find_all(class_='')print(vikilist[i],i,x,\"h does not exist\")"
   ]
  },
  {
   "cell_type": "code",
   "execution_count": null,
   "id": "9cd1fac7",
   "metadata": {},
   "outputs": [],
   "source": [
    "data"
   ]
  },
  {
   "cell_type": "code",
   "execution_count": null,
   "id": "fe7385d7",
   "metadata": {},
   "outputs": [],
   "source": [
    "for i in range(len(vikilist[:100])):\n",
    "        x = players[i].table.find_all('th')\n",
    "        for x in x:\n",
    "            if x.text == \"Plays\":\n",
    "                print(x.attrts)\n",
    "            else:\n",
    "                print('x')"
   ]
  },
  {
   "cell_type": "code",
   "execution_count": null,
   "id": "54a9354e",
   "metadata": {},
   "outputs": [],
   "source": [
    "z = players[3].table.find_all('th')\n",
    "h = []\n",
    "for z in z: \n",
    "    if z.text == \"Plays\":\n",
    "        print(z.next_sibling.text)"
   ]
  },
  {
   "cell_type": "code",
   "execution_count": null,
   "id": "7cca124f",
   "metadata": {},
   "outputs": [],
   "source": [
    "players[3].table.find_all(class_='infobox-data')[7].string"
   ]
  },
  {
   "cell_type": "code",
   "execution_count": null,
   "id": "0cbd1931",
   "metadata": {},
   "outputs": [],
   "source": [
    "x = players[1].find_all(class_='bday')\n",
    "z = players[2].table.find('th',string=\"Plays\").next_sibling.text"
   ]
  },
  {
   "cell_type": "code",
   "execution_count": null,
   "id": "ffec6e33",
   "metadata": {},
   "outputs": [],
   "source": [
    "x"
   ]
  },
  {
   "cell_type": "code",
   "execution_count": null,
   "id": "45a864d9",
   "metadata": {},
   "outputs": [],
   "source": [
    "z"
   ]
  },
  {
   "cell_type": "code",
   "execution_count": null,
   "id": "f1fa474c",
   "metadata": {},
   "outputs": [],
   "source": [
    "players[3].table.find('span',class_=\"bday\").string"
   ]
  },
  {
   "cell_type": "code",
   "execution_count": null,
   "id": "87450c9c",
   "metadata": {},
   "outputs": [],
   "source": [
    "for tr in a.contents:\n",
    "    print(tr)\n",
    "    print('******************************')"
   ]
  },
  {
   "cell_type": "code",
   "execution_count": null,
   "id": "7cff4eee",
   "metadata": {},
   "outputs": [],
   "source": [
    "for a in soup.find_all('a', href=True):\n",
    "    print(\"Found the URL:\", a['href'])"
   ]
  },
  {
   "cell_type": "code",
   "execution_count": null,
   "id": "9261aea6",
   "metadata": {},
   "outputs": [],
   "source": [
    "# from selenium import webdriver\n",
    "# from bs4 import BeautifulSoup\n",
    "# import pandas as pd\n",
    "# from selenium.webdriver.common.by import By\n",
    "# from selenium.common.exceptions import NoSuchElementException\n",
    "# #Import player names file\n",
    "# data=pd.read_csv('unique_player_names_to_scrape1.csv')"
   ]
  },
  {
   "cell_type": "code",
   "execution_count": null,
   "id": "dcf2268a",
   "metadata": {},
   "outputs": [],
   "source": [
    "# driver = webdriver.Chrome(\"C:/Users/pjagi/Downloads/chromedriver_win32/chromedriver.exe\")\n",
    "# date_of_birth=[] #List to store dob\n",
    "# plays=[] #List to store hand\n",
    "# backhand=[]#List to store backhand\n",
    "# driver.get(\"https://en.wikipedia.org/\")\n",
    "# search_box = driver.find_element_by_xpath('/html/body/div[5]/div[1]/div[2]/div/div/form/div/input[1]')\n",
    "# search_box.send_keys(data['name'][4]+' tennis')\n",
    "# search_button = driver.find_element_by_xpath('/html/body/div[5]/div[1]/div[2]/div/div/form/div/input[4]')\n",
    "# search_button.click()\n",
    "# first_result_button = driver.find_element_by_xpath('/html/body/div[3]/div[3]/div[4]/div[3]/ul/li[1]/div[1]/a')\n",
    "# first_result_button.click()\n",
    "# dob_element = driver.find_element_by_xpath('/html/body/div[3]/div[3]/div[5]/div[1]/table[1]/tbody/tr[5]/td')\n",
    "# userid = dob_element.text\n",
    "# userid"
   ]
  },
  {
   "cell_type": "code",
   "execution_count": null,
   "id": "73d76010",
   "metadata": {},
   "outputs": [],
   "source": [
    "# date_of_birth=[] #List to store dob\n",
    "# plays=[] #List to store hand\n",
    "# backhand=[]#List to store backhand\n",
    "# #Loop over all names to pick up data\n",
    "# for name in data['name'][:10]:\n",
    "#     driver = webdriver.Chrome(\"C:/Users/pjagi/Downloads/chromedriver_win32/chromedriver.exe\")\n",
    "#     driver.get(\"https://en.wikipedia.org/\")\n",
    "#     search_box = driver.find_element_by_xpath('/html/body/div[5]/div[1]/div[2]/div/div/form/div/input[1]')\n",
    "#     try:\n",
    "#         search_box.send_keys(name)\n",
    "#     search_button = driver.find_element_by_xpath('/html/body/div[5]/div[1]/div[2]/div/div/form/div/input[4]')\n",
    "#     search_button.click()\n",
    "#     first_result_button = driver.find_element_by_xpath('/html/body/div[3]/div[3]/div[4]/div[3]/ul/li[1]/div[1]/a')\n",
    "#     first_result_button.click()\n",
    "#     dob_element = driver.find_element_by_xpath('/html/body/div[3]/div[3]/div[5]/div[1]/table[1]/tbody/tr[5]/td')\n",
    "#     data['date_of_birth'] = dob_element.text"
   ]
  }
 ],
 "metadata": {
  "kernelspec": {
   "display_name": "Python 3 (ipykernel)",
   "language": "python",
   "name": "python3"
  },
  "language_info": {
   "codemirror_mode": {
    "name": "ipython",
    "version": 3
   },
   "file_extension": ".py",
   "mimetype": "text/x-python",
   "name": "python",
   "nbconvert_exporter": "python",
   "pygments_lexer": "ipython3",
   "version": "3.9.7"
  }
 },
 "nbformat": 4,
 "nbformat_minor": 5
}
